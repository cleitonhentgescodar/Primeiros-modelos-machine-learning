{
  "cells": [
    {
      "cell_type": "markdown",
      "metadata": {
        "id": "3Um_onCPZEf0"
      },
      "source": [
        "# **MÓDULO 19**\n",
        "# Exercício: Estatística Aplicada"
      ]
    },
    {
      "cell_type": "markdown",
      "metadata": {
        "id": "1m0YhZXwZL1q"
      },
      "source": [
        "**Efetividade de Duas Estratégias de Ensino**\n",
        "\n",
        "Imagine que uma escola esteja avaliando a eficácia de duas estratégias de ensino de matemática para alunos do ensino médio. Eles querem determinar se há uma diferença significativa no desempenho médio dos alunos entre as duas estratégias."
      ]
    },
    {
      "cell_type": "markdown",
      "metadata": {
        "id": "lYK3r7d8ZdUy"
      },
      "source": [
        "# **Hipóteses:**\n",
        "\n",
        "* Hipótese nula (H0): A média das notas dos alunos na estratégia A é igual à média das notas dos alunos na estratégia B.\n",
        "* Hipótese alternativa (H1): A média das notas na Estratégia B é maior do que a média das notas na Estratégia A."
      ]
    },
    {
      "cell_type": "markdown",
      "metadata": {
        "id": "aIXDvxeRZtuK"
      },
      "source": [
        "# **Dados:**\n",
        "\n",
        "* Amostra da Estratégia A: Notas de 50 alunos que receberam a Estratégia A.\n",
        "* Amostra da Estratégia B: Notas de 50 alunos que receberam a Estratégia B."
      ]
    },
    {
      "cell_type": "markdown",
      "metadata": {
        "id": "Awvgd4oAZ3Y7"
      },
      "source": [
        "Usaremos um teste Z para comparar as médias das notas entre as duas amostras."
      ]
    },
    {
      "cell_type": "markdown",
      "metadata": {
        "id": "qyJViOFDZ8Y_"
      },
      "source": [
        "Se o p-valor do teste Z for menor que um nível de significância pré-determinado (por exemplo, α = 0.05), rejeitamos a hipótese nula e concluímos que há uma diferença significativa nas médias das notas entre as duas estratégias de ensino."
      ]
    },
    {
      "cell_type": "code",
      "execution_count": null,
      "metadata": {
        "id": "UW8wHoiGY9sb"
      },
      "outputs": [],
      "source": [
        "import numpy as np\n",
        "import matplotlib.pyplot as plt\n",
        "from scipy import stats"
      ]
    },
    {
      "cell_type": "markdown",
      "metadata": {
        "id": "D6tUtiABaDWI"
      },
      "source": [
        "Os dados são criados a seguir:"
      ]
    },
    {
      "cell_type": "code",
      "execution_count": null,
      "metadata": {
        "id": "F9LLw8rsaFIS",
        "outputId": "0ca73d69-4235-4573-eb26-8b26b0e85b4f",
        "colab": {
          "base_uri": "https://localhost:8080/"
        }
      },
      "outputs": [
        {
          "output_type": "stream",
          "name": "stdout",
          "text": [
            "Notas da Estratégia A: [87.64052346 74.00157208 79.78737984 92.40893199 88.6755799 ]\n",
            "Notas da Estratégia B: [64.25440127 79.64282997 68.87033835 60.83241379 74.66181326]\n"
          ]
        }
      ],
      "source": [
        "# Definindo médias e desvios padrão para as notas nas duas estratégias\n",
        "media_estrategia_A = 70\n",
        "desvio_padrao_estrategia_A = 10\n",
        "\n",
        "media_estrategia_B = 75\n",
        "desvio_padrao_estrategia_B = 12\n",
        "\n",
        "# Gerando as amostras de notas para cada estratégia de ensino da nossa base\n",
        "np.random.seed(0)  # Para garantir a reprodutibilidade dos resultados\n",
        "amostra_estrategia_A = np.random.normal(loc=media_estrategia_A, scale=desvio_padrao_estrategia_A, size=50)\n",
        "amostra_estrategia_B = np.random.normal(loc=media_estrategia_B, scale=desvio_padrao_estrategia_B, size=50)\n",
        "\n",
        "print(\"Notas da Estratégia A:\", amostra_estrategia_A[:5])\n",
        "print(\"Notas da Estratégia B:\", amostra_estrategia_B[:5])"
      ]
    },
    {
      "cell_type": "markdown",
      "metadata": {
        "id": "KGpDI3hKaUN8"
      },
      "source": [
        "# 1) De acordo com as informações analisadas o nosso teste é unilateral á direita, esquerda ou bicaudal? Justifique.\n",
        "\n",
        "\n"
      ]
    },
    {
      "cell_type": "code",
      "execution_count": null,
      "metadata": {
        "id": "AeImcp9pbXUb",
        "colab": {
          "base_uri": "https://localhost:8080/"
        },
        "outputId": "5482cc53-be78-411a-da1d-88c2e8e8ef02"
      },
      "outputs": [
        {
          "output_type": "stream",
          "name": "stdout",
          "text": [
            "t_statistics -1.5267455833477102\n",
            "p_value 0.13004538960951503\n",
            "Não rejeitamos a hipótese nula. Não há evidências suficientes para concluir que as médias das notas entre as duas estratégias de ensino sejam diferentes\n"
          ]
        }
      ],
      "source": [
        "t_statistics, p_value = stats.ttest_ind(amostra_estrategia_A, amostra_estrategia_B)\n",
        "print(\"t_statistics\" , t_statistics)\n",
        "print(\"p_value\" ,  p_value)\n",
        "\n",
        "nivel_de_significancia = 0.05\n",
        "if p_value < nivel_de_significancia:\n",
        "    print(\"Rejeitamos a hipótese nula. Há uma diferença significativa nas médias das notas entre as duas estratégias de ensino.\")\n",
        "else:\n",
        "    print(\"Não rejeitamos a hipótese nula. Não há evidências suficientes para concluir que as médias das notas entre as duas estratégias de ensino sejam diferentes\")"
      ]
    },
    {
      "cell_type": "markdown",
      "source": [
        "O teste é unilateral à direita.\n",
        "\n",
        "A hipótese alternativa (H1) afirma que a média das notas na Estratégia B é *maior* do que a média das notas na Estratégia A. Isso define a direção da diferença que estamos buscando evidências.  \n",
        "Um teste unilateral à direita testa se a média de um grupo é significativamente maior que a média de outro grupo.  \n",
        "Se a hipótese alternativa fosse que a média da Estratégia B é *menor* que a da Estratégia A, seria um teste unilateral à esquerda. Se a hipótese alternativa fosse apenas que as médias são *diferentes* (sem especificar se maior ou menor), o teste seria bicaudal."
      ],
      "metadata": {
        "id": "RRL_b24H9cMK"
      }
    },
    {
      "cell_type": "markdown",
      "metadata": {
        "id": "xZ5V8EwfbZES"
      },
      "source": [
        "# 2) Calcule as médias para as duas amostragens e as variâncias. Quais insights você pode retirar comparando os dados?"
      ]
    },
    {
      "cell_type": "code",
      "execution_count": null,
      "metadata": {
        "id": "vwCW7UXkbl-d",
        "colab": {
          "base_uri": "https://localhost:8080/"
        },
        "outputId": "ce9a65db-637f-4cef-d1b0-ec59a56cf371"
      },
      "outputs": [
        {
          "output_type": "stream",
          "name": "stdout",
          "text": [
            "Média da amostra A: 71.40559272313098\n",
            "Média da amostra B: 74.74868110507046 \n",
            "\n",
            "Variância da amostra A: 126.68018446943104\n",
            "Variância da amostra B: 108.26062024217782\n"
          ]
        }
      ],
      "source": [
        "import numpy as np\n",
        "media_a = np.mean(amostra_estrategia_A)\n",
        "media_b = np.mean(amostra_estrategia_B)\n",
        "variancia_a = np.var(amostra_estrategia_A)\n",
        "variancia_b = np.var(amostra_estrategia_B)\n",
        "\n",
        "print(f\"Média da amostra A: {media_a}\")\n",
        "print(f\"Média da amostra B: {media_b} \\n\")\n",
        "\n",
        "print(f\"Variância da amostra A: {variancia_a}\")\n",
        "print(f\"Variância da amostra B: {variancia_b}\")\n",
        "\n"
      ]
    },
    {
      "cell_type": "markdown",
      "source": [
        "A média da amostra B é maior que a média da amostra A, sugerindo um possível melhor desempenho dos alunos na Estratégia B.\n",
        "\n",
        "A variância da amostra A é maior do que a da amostra B, indicando maior dispersão dos dados na Estratégia A."
      ],
      "metadata": {
        "id": "EN0k0hc2-NLC"
      }
    },
    {
      "cell_type": "markdown",
      "metadata": {
        "id": "8_skpl7RcAE5"
      },
      "source": [
        "# 3) Imprima os resultados da estatística do teste Z, p value e indique se rejeitaremos ou não a hipótese nula. Justifique sua resposta."
      ]
    },
    {
      "cell_type": "code",
      "execution_count": null,
      "metadata": {
        "id": "n88wuGCjcNCq",
        "colab": {
          "base_uri": "https://localhost:8080/"
        },
        "outputId": "02773ab6-9218-43f0-8791-1ab7dfaa7d4d"
      },
      "outputs": [
        {
          "output_type": "stream",
          "name": "stdout",
          "text": [
            "Estatística do teste Z (t-statistic como aproximação): -0.5832973224657106\n",
            "Valor de p: 0.28051656722284357\n",
            "Não rejeitamos a hipótese nula.\n",
            "Não há evidências estatísticas suficientes para concluir que a média das notas na Estratégia B é maior que a média das notas na Estratégia A.\n"
          ]
        }
      ],
      "source": [
        "import numpy as np\n",
        "from scipy import stats\n",
        "\n",
        "# Dados\n",
        "media_estrategia_A = 70\n",
        "desvio_padrao_estrategia_A = 10\n",
        "media_estrategia_B = 75\n",
        "desvio_padrao_estrategia_B = 12\n",
        "\n",
        "amostra_estrategia_A = np.random.normal(loc=media_estrategia_A, scale=desvio_padrao_estrategia_A, size=50)\n",
        "amostra_estrategia_B = np.random.normal(loc=media_estrategia_B, scale=desvio_padrao_estrategia_B, size=50)\n",
        "\n",
        "# Cálculo do teste z (usando t-test como aproximação, já que o tamanho da amostra não é adequado.\n",
        "t_statistic, p_value = stats.ttest_ind(amostra_estrategia_A, amostra_estrategia_B, alternative='less')\n",
        "\n",
        "print(f\"Estatística do teste Z (t-statistic como aproximação): {t_statistic}\")\n",
        "print(f\"Valor de p: {p_value}\")\n",
        "\n",
        "nivel_de_significancia = 0.05\n",
        "\n",
        "if p_value < nivel_de_significancia:\n",
        "    print(\"Rejeitamos a hipótese nula.\")\n",
        "    print(\"Há evidências estatísticas suficientes para concluir que a média das notas na Estratégia B é maior que a média das notas na Estratégia A.\")\n",
        "else:\n",
        "    print(\"Não rejeitamos a hipótese nula.\")\n",
        "    print(\"Não há evidências estatísticas suficientes para concluir que a média das notas na Estratégia B é maior que a média das notas na Estratégia A.\")\n"
      ]
    },
    {
      "cell_type": "markdown",
      "source": [
        "Justificativa:\n",
        "\n",
        "O p-valor representa a probabilidade de observar os dados amostrais (ou dados mais extremos), assumindo que a hipótese nula é verdadeira.\n",
        "\n",
        "Se o p-valor for menor que o nível de significância (0.05), significa que os dados amostrais fornecem evidências fortes contra a hipótese nula, e, portanto, rejeitamos a hipótese nula.\n",
        "\n",
        "Se o p-valor for maior ou igual ao nível de significância, não temos evidências suficientes para rejeitar a hipótese nula. Neste caso, não podemos concluir que há uma diferença significativa entre as duas médias.\n",
        "\n",
        "O teste t foi usado aqui por aproximação dado que o tamanho da amostra é 50, embora o teste Z seja mais adequado para amostras grandes.\n"
      ],
      "metadata": {
        "id": "on-c0cDR-lxy"
      }
    },
    {
      "cell_type": "markdown",
      "metadata": {
        "id": "IDR8T-bQc3i2"
      },
      "source": [
        "# 4) Para finalizar monte o gráfico da distribuição da estatística do nosso teste Z e explique o que pode ser observado através dele."
      ]
    },
    {
      "cell_type": "code",
      "execution_count": null,
      "metadata": {
        "id": "My8VY4QmdEWc",
        "colab": {
          "base_uri": "https://localhost:8080/",
          "height": 488
        },
        "outputId": "9e139bc7-a9fc-472d-93bf-be3b758e72db"
      },
      "outputs": [
        {
          "output_type": "display_data",
          "data": {
            "text/plain": [
              "<Figure size 1000x500 with 1 Axes>"
            ],
            "image/png": "[encoded data removed]"
          },
          "metadata": {}
        }
      ],
      "source": [
        "# Gráfico da distribuição da estatística do teste t (aproximação do teste Z)\n",
        "# e região crítica (já que o tamanho da amostra não é suficientemente grande para utilizar a distribuição normal)\n",
        "\n",
        "# Configurações padrão do gráfico (sem alterações)\n",
        "fig, ax = plt.subplots(figsize=(10, 5))\n",
        "\n",
        "# Parâmetros da densidade sob H0 (sem alterações)\n",
        "mu = 0\n",
        "variance = 1\n",
        "sigma = variance**.5\n",
        "\n",
        "# Valores de X e Y para plotar a densidade (sem alterações)\n",
        "x = np.linspace(mu - 3*sigma, mu + 3*sigma, 100)\n",
        "y = stats.t.pdf(x, len(amostra_estrategia_A) + len(amostra_estrategia_B) - 2)\n",
        "\n",
        "# Limites da região crítica (unilateral à esquerda, neste caso) - Calculado corretamente agora\n",
        "# Considerando o teste unilateral à esquerda (ou seja, H1: média B < média A).\n",
        "# O valor crítico foi calculado anteriormente e está correto.\n",
        "critical_value = stats.t.ppf(0.05, len(amostra_estrategia_A) + len(amostra_estrategia_B) -2)\n",
        "\n",
        "\n",
        "# Gráfico da densidade (sem alterações)\n",
        "ax.plot(x, y, label='Densidade da Distribuição t')\n",
        "\n",
        "# Marcação do valor observado da estatística do teste (sem alterações)\n",
        "ax.vlines(x=[t_statistic], ymin=0, ymax=y.max(), colors='r', linestyles='dotted', label='Valor observado da estatística t')\n",
        "\n",
        "# Preenchendo a área crítica (unilateral à esquerda)\n",
        "plt.fill_between(x, y, where=x < critical_value, alpha=.5, label='Área crítica')\n",
        "\n",
        "\n",
        "# Plotagem padrão do gráfico (sem alterações)\n",
        "plt.legend()\n",
        "plt.xlabel('Valores da estatística t')\n",
        "plt.ylabel('Densidade')\n",
        "plt.title('Distribuição t com destaque para a região crítica e valor observado')\n",
        "plt.show()\n",
        "\n",
        "\n",
        "# O gráfico mostra a distribuição t-student sob a hipótese nula (H0: médias iguais), com a estatística t observada.\n",
        "# A região crítica para um teste unilateral à esquerda está preenchida (área onde, se o valor observado cair, rejeitamos H0).\n",
        "# Se o valor observado (linha pontilhada vermelha) cair na região crítica, rejeitamos H0.\n",
        "# Caso contrário, não rejeitamos. Neste caso específico o valor de t_statistic está na área de não rejeição\n"
      ]
    },
    {
      "cell_type": "markdown",
      "source": [
        "O gráfico mostra a distribuição t-student sob a hipótese nula (H0: médias iguais), com a estatística t observada.\n",
        "\n",
        "A região crítica para um teste unilateral à esquerda está preenchida (área onde, se o valor observado cair, rejeitamos H0).\n",
        "\n",
        "Se o valor observado (linha pontilhada vermelha) cair na região crítica, rejeitamos H0.\n",
        "\n",
        "Caso contrário, não rejeitamos. Neste caso específico o valor de t_statistic está na área de não rejeição\n"
      ],
      "metadata": {
        "id": "3iPsIeqMCwzh"
      }
    }
  ],
  "metadata": {
    "colab": {
      "provenance": []
    },
    "kernelspec": {
      "display_name": "Python 3 (ipykernel)",
      "language": "python",
      "name": "python3"
    },
    "language_info": {
      "codemirror_mode": {
        "name": "ipython",
        "version": 3
      },
      "file_extension": ".py",
      "mimetype": "text/x-python",
      "name": "python",
      "nbconvert_exporter": "python",
      "pygments_lexer": "ipython3",
      "version": "3.11.7"
    }
  },
  "nbformat": 4,
  "nbformat_minor": 0
}